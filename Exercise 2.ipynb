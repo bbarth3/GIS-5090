{
 "cells": [
  {
   "cell_type": "markdown",
   "metadata": {},
   "source": [
    "## listnames"
   ]
  },
  {
   "cell_type": "code",
   "execution_count": 11,
   "metadata": {},
   "outputs": [],
   "source": [
    "import arcpy\n",
    "arcpy.env.workspace = r\"C:\\Users\\brend_000\\Documents\\ArcGIS\\Projects\\GIS 5090\\Unit 9 Assignment\\Ex02\"\n",
    "def listfieldnames(table):\n",
    "    fields = arcpy.ListFields(table)\n",
    "    namelist = []\n",
    "    for field in fields:\n",
    "        namelist.append(field.name)\n",
    "    return namelist"
   ]
  },
  {
   "cell_type": "markdown",
   "metadata": {},
   "source": [
    "## myscript"
   ]
  },
  {
   "cell_type": "code",
   "execution_count": 13,
   "metadata": {},
   "outputs": [
    {
     "name": "stdout",
     "output_type": "stream",
     "text": [
      "['FID', 'Shape', 'OBJECTID', 'PRE_TYPE', 'ST_NAME', 'STREET_NAM', 'STREET_TYP', 'SUF_DIR', 'FULLNAME', 'LOW', 'HIGH', 'L_ADD_FROM', 'L_ADD_TO', 'R_ADD_FROM', 'R_ADD_TO', 'L_PLACE', 'R_PLACE', 'L_CITY', 'R_CITY', 'STATE', 'ZIP_RIGHT', 'ZIP_LEFT', 'ESN_LEFT', 'ESN_RIGHT', 'L_PRECINCT', 'R_PRECINCT', 'L_SCHOOL', 'R_SCHOOL', 'REGION', 'EDIT_DATE', 'COMMENTS', 'STATUS', 'SURFACE_TY', 'SPEED', 'NUM_LANES', 'ROAD_ROW_W', 'ALIAS', 'RD_NUMBER', 'FUNCTIONAL', 'LABEL_CLAS', 'ROADCLASS', 'CLASS', 'LINK_CLASS', 'LINK_NUM', 'SNOW_ROUTE', 'GARBAGE_RO', 'RECYCLING_', 'STATE_AID_', 'STATE_AID1', 'MAINT_FUND', 'MAINT_OWNE', 'MAINT_BY', 'MAINT_DIST', 'MAINT_DI_1', 'MAINT_TYPE', 'MAINT_WINT', 'MAINT_RURA', 'MAINT_LINK', 'HWY_CONTRO', 'HWY_SEGMEN', 'LOAD_RESTR', 'POSTAL_ROU', 'NAVSTREETS', 'CO_CODE', 'CO_NAME', 'PSAP_ID', 'ONEWAY', 'TF_MINUTES', 'FT_MINUTES', 'F_ZLEV', 'T_ZLEV', 'FEET', 'Shape_len']\n"
     ]
    }
   ],
   "source": [
    "fields = listfieldnames(\"streets.shp\")\n",
    "print(fields)"
   ]
  },
  {
   "cell_type": "markdown",
   "metadata": {},
   "source": [
    "## assessment"
   ]
  },
  {
   "cell_type": "code",
   "execution_count": 14,
   "metadata": {},
   "outputs": [
    {
     "name": "stdout",
     "output_type": "stream",
     "text": [
      "$6,250.00\n"
     ]
    }
   ],
   "source": [
    "landuse = \"SFR\"\n",
    "value = 125000\n",
    "if landuse == \"SFR\":\n",
    "    rate = 0.05\n",
    "elif landuse == \"MFR\":\n",
    "    rate = 0.04\n",
    "else:\n",
    "    rate = 0.02\n",
    "assessment = value * rate\n",
    "print(f\"${assessment:,.2f}\")"
   ]
  },
  {
   "cell_type": "markdown",
   "metadata": {},
   "source": [
    "## tax"
   ]
  },
  {
   "cell_type": "code",
   "execution_count": 15,
   "metadata": {},
   "outputs": [],
   "source": [
    "def taxcalc(landuse, value):\n",
    "    if landuse == \"SFR\":\n",
    "        rate = 0.05\n",
    "    elif landuse == \"MFR\":\n",
    "        rate = 0.04\n",
    "    else:\n",
    "        rate = 0.02\n",
    "    assessment = value * rate\n",
    "    return assessment"
   ]
  },
  {
   "cell_type": "markdown",
   "metadata": {},
   "source": [
    "## parcel_calc"
   ]
  },
  {
   "cell_type": "code",
   "execution_count": 17,
   "metadata": {},
   "outputs": [
    {
     "name": "stdout",
     "output_type": "stream",
     "text": [
      "$6,250.00\n"
     ]
    }
   ],
   "source": [
    "mytax = taxcalc(\"SFR\", 125000)\n",
    "print(f\"${mytax:,.2f}\")"
   ]
  },
  {
   "cell_type": "markdown",
   "metadata": {},
   "source": [
    "## parcel"
   ]
  },
  {
   "cell_type": "code",
   "execution_count": 18,
   "metadata": {},
   "outputs": [],
   "source": [
    "class Parcel:\n",
    "    def __init__(self, landuse, value):\n",
    "        self.landuse = landuse\n",
    "        self.value = value\n",
    "    def assessment(self):\n",
    "        if self.landuse == \"SFR\":\n",
    "            rate = 0.05\n",
    "        elif self.landuse == \"MFR\":\n",
    "            rate = 0.04\n",
    "        else:\n",
    "            rate = 0.02\n",
    "        assessment = self.value * rate\n",
    "        return assessment\n"
   ]
  },
  {
   "cell_type": "markdown",
   "metadata": {},
   "source": [
    "## parcel_tax"
   ]
  },
  {
   "cell_type": "code",
   "execution_count": 19,
   "metadata": {},
   "outputs": [
    {
     "name": "stdout",
     "output_type": "stream",
     "text": [
      "Land use: SFR\n",
      "Value: $125,000.00\n",
      "Tax assessment: $6,250.00\n"
     ]
    }
   ],
   "source": [
    "myparcel = Parcel(\"SFR\", 125000)\n",
    "print(f\"Land use: {myparcel.landuse}\")\n",
    "print(f\"Value: ${myparcel.value:,.2f}\")\n",
    "mytax = myparcel.assessment()\n",
    "print(f\"Tax assessment: ${mytax:,.2f}\")"
   ]
  },
  {
   "cell_type": "code",
   "execution_count": null,
   "metadata": {},
   "outputs": [],
   "source": []
  },
  {
   "cell_type": "code",
   "execution_count": null,
   "metadata": {},
   "outputs": [],
   "source": []
  }
 ],
 "metadata": {
  "kernelspec": {
   "display_name": "ArcGISPro",
   "language": "Python",
   "name": "python3"
  },
  "language_info": {
   "file_extension": ".py",
   "name": "python",
   "version": "3"
  }
 },
 "nbformat": 4,
 "nbformat_minor": 2
}
