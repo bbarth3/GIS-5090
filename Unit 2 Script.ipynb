{
 "cells": [
  {
   "cell_type": "code",
   "execution_count": 1,
   "metadata": {},
   "outputs": [],
   "source": [
    "import arcpy"
   ]
  },
  {
   "cell_type": "code",
   "execution_count": 2,
   "metadata": {},
   "outputs": [
    {
     "name": "stdout",
     "output_type": "stream",
     "text": [
      "5831\n"
     ]
    }
   ],
   "source": [
    "count = arcpy.management.GetCount(\"blocks\")\n",
    "print(count)"
   ]
  },
  {
   "cell_type": "code",
   "execution_count": 4,
   "metadata": {},
   "outputs": [
    {
     "data": {
      "text/html": [
       "<h2>Output</h2>C:\\Users\\brend_000\\Documents\\ArcGIS\\Projects\\Unit 2 - Assignment\\blocks_shape\\blocks_mbg.shp<h2>Messages</h2>Start Time: Friday, September 3, 2021 11:58:59 AM<br/>Succeeded at Friday, September 3, 2021 11:59:00 AM (Elapsed Time: 0.88 seconds)<br/><style>.rendered_html td, .rendered_html th {text-align: left;}.rendered_html tbody {border: 1px solid black;}</style>"
      ],
      "text/plain": [
       "<Result 'C:\\\\Users\\\\brend_000\\\\Documents\\\\ArcGIS\\\\Projects\\\\Unit 2 - Assignment\\\\blocks_shape\\\\blocks_mbg.shp'>"
      ]
     },
     "execution_count": 4,
     "metadata": {},
     "output_type": "execute_result"
    }
   ],
   "source": [
    "from arcpy import env\n",
    "env.workspace = r\"C:\\Users\\brend_000\\Documents\\ArcGIS\\Projects\\Unit 2 - Assignment\\blocks_shape\"\n",
    "arcpy.MinimumBoundingGeometry_management(\"blocks.shp\", \"blocks_mbg\")"
   ]
  },
  {
   "cell_type": "code",
   "execution_count": null,
   "metadata": {},
   "outputs": [],
   "source": []
  }
 ],
 "metadata": {
  "kernelspec": {
   "display_name": "ArcGISPro",
   "language": "Python",
   "name": "python3"
  },
  "language_info": {
   "file_extension": ".py",
   "name": "python",
   "version": "3"
  }
 },
 "nbformat": 4,
 "nbformat_minor": 2
}
