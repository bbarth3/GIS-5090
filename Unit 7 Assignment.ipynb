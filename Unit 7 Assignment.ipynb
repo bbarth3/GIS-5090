{
 "cells": [
  {
   "cell_type": "code",
   "execution_count": 1,
   "metadata": {},
   "outputs": [
    {
     "data": {
      "text/html": [
       "<h2>Output</h2>C:\\Users\\brend_000\\Documents\\ArcGIS\\Projects\\GIS 5090\\Unit 7 Assignment\\Ex03\\Data.gdb\\random<h2>Messages</h2>Start Time: Friday, October 8, 2021 11:36:48 AM<br/>Succeeded at Friday, October 8, 2021 11:36:49 AM (Elapsed Time: 1.55 seconds)<br/><style>.rendered_html td, .rendered_html th {text-align: left;}.rendered_html tbody {border: 1px solid black;}</style>"
      ],
      "text/plain": [
       "<Result 'C:\\\\Users\\\\brend_000\\\\Documents\\\\ArcGIS\\\\Projects\\\\GIS 5090\\\\Unit 7 Assignment\\\\Ex03\\\\Data.gdb\\\\random'>"
      ]
     },
     "execution_count": 1,
     "metadata": {},
     "output_type": "execute_result"
    }
   ],
   "source": [
    "# Python script: random_sample.py\n",
    "# Author: Paul Zandbergen\n",
    "# This script creates a random sample of input features based on\n",
    "# a specified count and saves the results as a new feature class.\n",
    "\n",
    "# Import modules.\n",
    "import arcpy\n",
    "import random\n",
    "\n",
    "# Set inputs and outputs. Inputfc can be a shapefile or geodatabase\n",
    "# feature class. Outcount cannot exceed the feature count of inputfc.\n",
    "inputfc = r\"C:\\Users\\brend_000\\Documents\\ArcGIS\\Projects\\GIS 5090\\Unit 7 Assignment\\Ex03\\Data.gdb\\points\"\n",
    "outputfc = r\"C:\\Users\\brend_000\\Documents\\ArcGIS\\Projects\\GIS 5090\\Unit 7 Assignment\\Ex03\\Data.gdb\\random\"\n",
    "outcount = 5\n",
    "\n",
    "# Create a list of all the IDs of the input features.\n",
    "inlist = []\n",
    "with arcpy.da.SearchCursor(inputfc, \"OID@\") as cursor:\n",
    "    for row in cursor:\n",
    "        id = row[0]\n",
    "        inlist.append(id)\n",
    "    \n",
    "# Create a random sample of IDs from the list of all IDs.\n",
    "randomlist = random.sample(inlist, outcount)\n",
    "\n",
    "# Use the random sample of IDs to create a new feature class.\n",
    "desc = arcpy.da.Describe(inputfc)\n",
    "fldname = desc[\"OIDFieldName\"]\n",
    "sqlfield = arcpy.AddFieldDelimiters(inputfc, fldname)\n",
    "sqlexp = f\"{sqlfield} IN {tuple(randomlist)}\"\n",
    "arcpy.Select_analysis(inputfc, outputfc, sqlexp)\n"
   ]
  },
  {
   "cell_type": "code",
   "execution_count": 2,
   "metadata": {},
   "outputs": [
    {
     "ename": "SyntaxError",
     "evalue": "invalid syntax (<string>, line 2)",
     "output_type": "error",
     "traceback": [
      "\u001b[0;31m---------------------------------------------------------------------------\u001b[0m\n\u001b[0;31mSyntaxError\u001b[0m                               Traceback (most recent call last)",
      "File \u001b[0;34mC:\\Users\\brend_000\\AppData\\Local\\Programs\\ArcGIS\\Pro\\bin\\Python\\envs\\arcgispro-py3\\lib\\ast.py\u001b[0m, in \u001b[0;32mparse\u001b[0m:\nLine \u001b[0;34m35\u001b[0m:    \u001b[34mreturn\u001b[39;49;00m \u001b[36mcompile\u001b[39;49;00m(source, filename, mode, PyCF_ONLY_AST)\n",
      "\u001b[0;31mSyntaxError\u001b[0m: invalid syntax (<string>, line 2)\n\u001b[0;31m---------------------------------------------------------------------------\u001b[0m"
     ]
    }
   ],
   "source": [
    "import arcpy \n",
    "import random from arcpy \n",
    "import env  \n",
    "#allow outputs to be overwritten \n",
    "#(so you don't have to delete them before each time you run  env.overwriteoutput = True \n",
    "#set input variables: \n",
    "inputfc = \"C:/EsriPress/Python/Date/Exercise13/points.shp\" \n",
    "outputic = \"C:/EsriPress/Python/Data/Exercise13/Results/random.shp\" \n",
    "pctRecords = 50  \n",
    "#empty lists for later use: \n",
    "inlist = [] \n",
    "randomlist = []  \n",
    "#get the unique id field for the input feature class \n",
    "desc = arcpy.Describe(inputfc) \n",
    "fldname = desc.OIDFieldName  \n",
    "#iterate through the input feature class (see below for an alternative to the while loop)\n",
    "#get the rows for the input feature class (this is similar to the attribute table) \n",
    "rows = arcpy.SearchCursor(inputfc) \n",
    "row = rows.next() \n",
    "#get the next single row (in this case, it's the first row) \n",
    "count=0  \n",
    "#set a counter to 0 \n",
    "#while row exists, do some stuff:\n",
    "while row:     \n",
    "    id = row.getValue(fldname) \n",
    "    #get the id from the current row      \n",
    "    inlist.append(id) \n",
    "    #add that id to a list we created earlier      \n",
    "    count+=1 \n",
    "    #add one to our counter      \n",
    "    row = rows.next() \n",
    "    #switch to the next row  \n",
    "    #Now that we have the count we can set our outcount \n",
    "    #first turn input percent to a deciman (example 0.5 instead of 50), \n",
    "    #then times it by the count  \n",
    "    outcount = (pctRecords*0.01)*count  \n",
    "while len(randomlist) < outcount:     \n",
    "        #while the randomlist is smaller than the desired outcount:      \n",
    "        selitem = random.choice(inlist)     \n",
    "        #pick a random item from the list we created in the previous while loop      \n",
    "        randomlist.append(selitem) \n",
    "        #add that randomly picked id to the random list      \n",
    "        inlist.remove(selitem) \n",
    "        #remove that id from the list so it won't randomly get picked again  \n",
    "        #create a sql statement to do a select by attribute: \n",
    "        sqlexp = '\"' + fldname + '\"' + ' in ' + '(' + str(randomlist)[1:-1] + ')'  \n",
    "        #make a selection by selecting all the id's in the random list from the original file \n",
    "        arcpy.MakeFeatureLayer_management(inputfc, \"selection\", sqlexp)  \n",
    "        #turn that selection into a shapefile: \n",
    "        arcpy.CopyFeatures_management(\"selection\", outputfc)  \n",
    "        print \"Script is complete!\"‍‍‍‍‍‍‍‍‍‍‍‍‍‍‍‍‍‍‍‍‍‍‍‍‍‍‍‍‍‍‍‍‍‍‍‍‍‍‍‍‍‍‍‍‍‍‍‍‍‍‍‍‍‍‍\n",
    "        #As an alternative to your first while loop, I would prefer to use a for loop (but either will work). This is what the for loop would loop like:"
   ]
  },
  {
   "cell_type": "code",
   "execution_count": null,
   "metadata": {},
   "outputs": [],
   "source": [
    "rows = arcpy.SearchCursor(inputfc) \n",
    "#get the rows for the input feature class (this is similar to the attribute table) \n",
    "count=0 \n",
    "#set a counter to 0 \n",
    "for row in rows: \n",
    "    #goes through each row in rows and does stuff with that row  \n",
    "    \n",
    "    id = row.getValue(fldname) \n",
    "    #get the id from the current row  \n",
    "    \n",
    "    inlist.append(id) \n",
    "    #add that id to a list we created earlier  \n",
    "    \n",
    "    count+=1 \n",
    "    #add one to our counter"
   ]
  }
 ],
 "metadata": {
  "kernelspec": {
   "display_name": "ArcGISPro",
   "language": "Python",
   "name": "python3"
  },
  "language_info": {
   "file_extension": ".py",
   "name": "python",
   "version": "3"
  }
 },
 "nbformat": 4,
 "nbformat_minor": 2
}
