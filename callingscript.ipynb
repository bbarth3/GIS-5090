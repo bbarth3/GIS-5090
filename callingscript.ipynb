{
 "cells": [
  {
   "cell_type": "code",
   "execution_count": 25,
   "metadata": {},
   "outputs": [
    {
     "name": "stdout",
     "output_type": "stream",
     "text": [
      "36\n"
     ]
    }
   ],
   "source": [
    "arcpy.env.workspace = r\"C:\\Users\\brend_000\\Documents\\ArcGIS\\Projects\\GIS 5090\\Unit 9 Assignment\\Ex02\"\n",
    "\n",
    "stringcount = countstringfields(\"streets.shp\")\n",
    "print(stringcount)\n"
   ]
  },
  {
   "cell_type": "code",
   "execution_count": null,
   "metadata": {},
   "outputs": [],
   "source": []
  }
 ],
 "metadata": {
  "kernelspec": {
   "display_name": "ArcGISPro",
   "language": "Python",
   "name": "python3"
  },
  "language_info": {
   "file_extension": ".py",
   "name": "python",
   "version": "3"
  }
 },
 "nbformat": 4,
 "nbformat_minor": 2
}
