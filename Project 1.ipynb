{
 "cells": [
  {
   "cell_type": "code",
   "execution_count": 2,
   "metadata": {},
   "outputs": [],
   "source": [
    "import arcpy"
   ]
  },
  {
   "cell_type": "markdown",
   "metadata": {},
   "source": [
    "## Problem 1"
   ]
  },
  {
   "cell_type": "code",
   "execution_count": 12,
   "metadata": {},
   "outputs": [
    {
     "name": "stdout",
     "output_type": "stream",
     "text": [
      "16\n"
     ]
    }
   ],
   "source": [
    "arcpy.env.workspace = r\"C:\\Users\\brend_000\\Documents\\ArcGIS\\Projects\\GIS 5090\\GIS 5090 - Project 1\\hurricane_nate_subset\"\n",
    "dems = arcpy.ListRasters()\n",
    "print(len(dems))"
   ]
  },
  {
   "cell_type": "markdown",
   "metadata": {},
   "source": [
    "Set the workspace to the folder with the tiff files in it\n",
    "\n",
    "Create a list of all the rasters within said folder\n",
    "\n",
    "Prints how many rasters are in the folder using the len function to return the number\n",
    "\n",
    "1. There are 16 rasters in the folder"
   ]
  },
  {
   "cell_type": "code",
   "execution_count": 14,
   "metadata": {},
   "outputs": [
    {
     "name": "stdout",
     "output_type": "stream",
     "text": [
      "20171010aC0874030w301630n.tif uses projection GCS_WGS_1984\n",
      "20171010aC0874200w301500n.tif uses projection GCS_WGS_1984\n",
      "20171010aC0874200w301630n.tif uses projection GCS_WGS_1984\n",
      "20171010aC0874330w301500n.tif uses projection GCS_WGS_1984\n",
      "20171010aC0874330w301630n.tif uses projection GCS_WGS_1984\n",
      "20171010aC0874500w301500n.tif uses projection GCS_WGS_1984\n",
      "20171010aC0874630w301500n.tif uses projection GCS_WGS_1984\n",
      "20171010aC0874800w301500n.tif uses projection GCS_WGS_1984\n",
      "20171010aC0874930w301500n.tif uses projection GCS_WGS_1984\n",
      "20171010aC0875100w301500n.tif uses projection GCS_WGS_1984\n",
      "20171010aC0875230w301500n.tif uses projection GCS_WGS_1984\n",
      "20171010aC0875400w301500n.tif uses projection GCS_WGS_1984\n",
      "20171010aC0875530w301500n.tif uses projection GCS_WGS_1984\n",
      "20171010aC0875700w301500n.tif uses projection GCS_WGS_1984\n",
      "20171010aC0875830w301500n.tif uses projection GCS_WGS_1984\n",
      "20171010aC0880000w301330n.tif uses projection GCS_WGS_1984\n"
     ]
    }
   ],
   "source": [
    "for dem in dems:\n",
    "    desc = arcpy.Describe(dem)\n",
    "    if desc.spatialreference.name == \"GCS_WGS_1984\":\n",
    "        print(desc.name + \" uses projection \" + desc.spatialreference.name)\n",
    "    else:\n",
    "        print(desc.name + \" does not use 1984, it uses projection \" + desc.spatialreference.name)"
   ]
  },
  {
   "cell_type": "markdown",
   "metadata": {},
   "source": [
    "Create a for loop to search through the rasters in the list\n",
    "\n",
    "Use the describe function to return describe elements from object properties so we can find the projection name\n",
    "\n",
    "Use an if statement to see if the rasters all use the same projection\n",
    "\n",
    "2. GCS_WGS_1984\n",
    "3. They all use the same projection"
   ]
  },
  {
   "cell_type": "code",
   "execution_count": 16,
   "metadata": {},
   "outputs": [
    {
     "name": "stdout",
     "output_type": "stream",
     "text": [
      "4\n",
      "4\n",
      "4\n",
      "4\n",
      "4\n",
      "4\n",
      "4\n",
      "4\n",
      "4\n",
      "4\n",
      "4\n",
      "4\n",
      "4\n",
      "4\n",
      "4\n",
      "4\n"
     ]
    }
   ],
   "source": [
    "for dem in dems:\n",
    "    desc = arcpy.Describe(dem)\n",
    "    print(desc.bandCount)"
   ]
  },
  {
   "cell_type": "markdown",
   "metadata": {},
   "source": [
    "For loop searchs through all the raster images in the list\n",
    "Use the describe function to retrieve info of each raster\n",
    "bandCount returns the number of bands each raster has\n",
    "4. 4 bands each"
   ]
  },
  {
   "cell_type": "code",
   "execution_count": 17,
   "metadata": {},
   "outputs": [
    {
     "name": "stdout",
     "output_type": "stream",
     "text": [
      "TIFF\n",
      "TIFF\n",
      "TIFF\n",
      "TIFF\n",
      "TIFF\n",
      "TIFF\n",
      "TIFF\n",
      "TIFF\n",
      "TIFF\n",
      "TIFF\n",
      "TIFF\n",
      "TIFF\n",
      "TIFF\n",
      "TIFF\n",
      "TIFF\n",
      "TIFF\n"
     ]
    }
   ],
   "source": [
    "for dem in dems:\n",
    "    desc = arcpy.Describe(dem)\n",
    "    print(desc.format)"
   ]
  },
  {
   "cell_type": "markdown",
   "metadata": {},
   "source": [
    "For loop rotates through the list\n",
    "\n",
    "Describe function retrieves info of each raster\n",
    "\n",
    "Format function returns the function of each raster\n",
    "\n",
    "5. The rasters format is a TIFF"
   ]
  },
  {
   "cell_type": "markdown",
   "metadata": {},
   "source": [
    "## Problem 2"
   ]
  },
  {
   "cell_type": "code",
   "execution_count": 18,
   "metadata": {},
   "outputs": [],
   "source": [
    "arcpy.env.workspace = r\"C:\\Users\\brend_000\\Documents\\ArcGIS\\Projects\\GIS 5090\\GIS 5090 - Project 1\\tlgdb_2019_a_us_school.gdb\""
   ]
  },
  {
   "cell_type": "code",
   "execution_count": 19,
   "metadata": {},
   "outputs": [],
   "source": [
    "dems = arcpy.ListFeatureClasses()"
   ]
  },
  {
   "cell_type": "code",
   "execution_count": 20,
   "metadata": {},
   "outputs": [
    {
     "name": "stdout",
     "output_type": "stream",
     "text": [
      "School_District_Unified\n",
      "School_District_Secondary\n",
      "School_District_Elementary\n",
      "State\n"
     ]
    }
   ],
   "source": [
    "for dem in dems:\n",
    "    desc = arcpy.Describe(dem)\n",
    "    print(desc.name)"
   ]
  },
  {
   "cell_type": "markdown",
   "metadata": {},
   "source": [
    "Set the workspace to the gdb with all the feature classes\n",
    "\n",
    "Create the dems object to hold a list of all the feature classes\n",
    "\n",
    "Create a for loop that loops through the list of each feature class, and the name function returns the feature class name thanks to the describe function being set beforehand\n",
    "\n",
    "1. School_District_Unified, School_District_Secondary, School_District_Elementary, State"
   ]
  },
  {
   "cell_type": "code",
   "execution_count": 25,
   "metadata": {},
   "outputs": [
    {
     "name": "stdout",
     "output_type": "stream",
     "text": [
      "School_District_Unified has 10887 features\n",
      "School_District_Secondary has 482 features\n",
      "School_District_Elementary has 1946 features\n",
      "State has 56 features\n"
     ]
    }
   ],
   "source": [
    "for dem in dems:\n",
    "    desc = arcpy.Describe(dem)\n",
    "    print(desc.name + \" has \" + str(arcpy.GetCount_management(dem)) + \" features\")"
   ]
  },
  {
   "cell_type": "markdown",
   "metadata": {},
   "source": [
    "The getCount function allows arcpy to return the value of the number of feature classes within a feature class, by returning the total number of rows for a table\n",
    "\n",
    "2. SDU has 10887 features, SDS has 482, SDE has 1946, and State has 56"
   ]
  },
  {
   "cell_type": "code",
   "execution_count": 28,
   "metadata": {},
   "outputs": [
    {
     "name": "stdout",
     "output_type": "stream",
     "text": [
      "School_District_Unified uses projection GCS_North_American_1983\n",
      "School_District_Secondary uses projection GCS_North_American_1983\n",
      "School_District_Elementary uses projection GCS_North_American_1983\n",
      "State uses projection GCS_North_American_1983\n"
     ]
    }
   ],
   "source": [
    "for dem in dems:\n",
    "    desc = arcpy.Describe(dem)\n",
    "    print(desc.name + \" uses projection \" + desc.spatialreference.name)"
   ]
  },
  {
   "cell_type": "markdown",
   "metadata": {},
   "source": [
    "The spatialreference.name function returns the name of the projection used by the feature class currently being looped in the for loop\n",
    "3. All feature classes use the GCS_North_American_1983 projection"
   ]
  },
  {
   "cell_type": "code",
   "execution_count": 29,
   "metadata": {},
   "outputs": [
    {
     "name": "stdout",
     "output_type": "stream",
     "text": [
      "School_District_Unified has shape type Polygon\n",
      "School_District_Secondary has shape type Polygon\n",
      "School_District_Elementary has shape type Polygon\n",
      "State has shape type Polygon\n"
     ]
    }
   ],
   "source": [
    "for dem in dems:\n",
    "    desc = arcpy.Describe(dem)\n",
    "    print(desc.name + \" has shape type \" + desc.shapeType)"
   ]
  },
  {
   "cell_type": "markdown",
   "metadata": {},
   "source": [
    "The shapeType function returns the shape type of the feature class currently being looped in the for loop\n",
    "4. All of the feature classes are the Polygon shape type"
   ]
  },
  {
   "cell_type": "markdown",
   "metadata": {},
   "source": [
    "## Problem 3"
   ]
  },
  {
   "cell_type": "code",
   "execution_count": 41,
   "metadata": {},
   "outputs": [],
   "source": [
    "arcpy.env.workspace = r\"C:\\Users\\brend_000\\Documents\\ArcGIS\\Projects\\GIS 5090\\GIS 5090 - Project 1\\usa_cities.gdb\"\n",
    "fc = \"largest_cities\"\n",
    "fields = [\"NAME\", \"POPULATION\"]"
   ]
  },
  {
   "cell_type": "code",
   "execution_count": 49,
   "metadata": {},
   "outputs": [
    {
     "name": "stdout",
     "output_type": "stream",
     "text": [
      "Chicago has a population of 2781116\n",
      "Dallas has a population of 1323651\n",
      "Houston has a population of 2333285\n",
      "Los Angeles has a population of 3986442\n",
      "New York has a population of 8691599\n",
      "Philadelphia has a population of 1587761\n",
      "Phoenix has a population of 1601381\n",
      "San Antonio has a population of 1442472\n",
      "San Diego has a population of 1397856\n",
      "San Jose has a population of 1042940\n"
     ]
    }
   ],
   "source": [
    "for row in sorted(arcpy.da.SearchCursor(fc, fields)):\n",
    "    if row[1] > 1000000:\n",
    "        print(u'{0} has a population of {1}'.format(row[0], row[1]))\n",
    "    \n",
    "    \n",
    "            "
   ]
  },
  {
   "cell_type": "markdown",
   "metadata": {},
   "source": [
    "Set the workspace to the geodatabase where the feature class was located\n",
    "\n",
    "Set fc to the largest_cities feature class and set fields to the two fields being used\n",
    "\n",
    "Created a cursor that searched through the specified feature class for the two fields I had previously set the fields variable to\n",
    "\n",
    "If the row[1] variable, which corresponded to Population, was greater than 1 million then both the name and the population fields are printed out"
   ]
  },
  {
   "cell_type": "markdown",
   "metadata": {},
   "source": [
    "## Problem 4"
   ]
  },
  {
   "cell_type": "code",
   "execution_count": 64,
   "metadata": {},
   "outputs": [],
   "source": [
    "fc = \"largest_cities\"\n",
    "fields = [\"NAME\", \"ST\", \"CAPITAL\"]"
   ]
  },
  {
   "cell_type": "code",
   "execution_count": 65,
   "metadata": {},
   "outputs": [
    {
     "name": "stdout",
     "output_type": "stream",
     "text": [
      "Albany is the capital of NY\n",
      "Annapolis is the capital of MD\n",
      "Atlanta is the capital of GA\n",
      "Augusta is the capital of ME\n",
      "Austin is the capital of TX\n",
      "Baton Rouge is the capital of LA\n",
      "Bismarck is the capital of ND\n",
      "Boise City is the capital of ID\n",
      "Boston is the capital of MA\n",
      "Carson City is the capital of NV\n",
      "Charleston is the capital of WV\n",
      "Cheyenne is the capital of WY\n",
      "Columbia is the capital of SC\n",
      "Columbus is the capital of OH\n",
      "Concord is the capital of NH\n",
      "Denver is the capital of CO\n",
      "Des Moines is the capital of IA\n",
      "Dover is the capital of DE\n",
      "Frankfort is the capital of KY\n",
      "Harrisburg is the capital of PA\n",
      "Hartford is the capital of CT\n",
      "Helena is the capital of MT\n",
      "Honolulu is the capital of HI\n",
      "Indianapolis is the capital of IN\n",
      "Jackson is the capital of MS\n",
      "Jefferson City is the capital of MO\n",
      "Juneau is the capital of AK\n",
      "Lansing is the capital of MI\n",
      "Lincoln is the capital of NE\n",
      "Little Rock is the capital of AR\n",
      "Madison is the capital of WI\n",
      "Montgomery is the capital of AL\n",
      "Montpelier is the capital of VT\n",
      "Nashville is the capital of TN\n",
      "Oklahoma City is the capital of OK\n",
      "Olympia is the capital of WA\n",
      "Phoenix is the capital of AZ\n",
      "Pierre is the capital of SD\n",
      "Providence is the capital of RI\n",
      "Raleigh is the capital of NC\n",
      "Richmond is the capital of VA\n",
      "Sacramento is the capital of CA\n",
      "Salem is the capital of OR\n",
      "Salt Lake City is the capital of UT\n",
      "Santa Fe is the capital of NM\n",
      "Springfield is the capital of IL\n",
      "St. Paul is the capital of MN\n",
      "Tallahassee is the capital of FL\n",
      "Topeka is the capital of KS\n",
      "Trenton is the capital of NJ\n"
     ]
    }
   ],
   "source": [
    "for row in sorted(arcpy.da.SearchCursor(fc, fields)):\n",
    "    if row[2] == \"State\":\n",
    "        print(row[0] + \" is the capital of \" + row[1])"
   ]
  },
  {
   "cell_type": "markdown",
   "metadata": {},
   "source": [
    "Set fc to the largest_cities feature class\n",
    "\n",
    "Set the fields variable the the three values that tell the name, state the city is in, and whether or not its the capital\n",
    "\n",
    "Cursor searches through the feature class\n",
    "If row[2], which is the Capital field, says \"State\" that means its the state capital and it gets printed"
   ]
  },
  {
   "cell_type": "markdown",
   "metadata": {},
   "source": [
    "## Problem 5"
   ]
  },
  {
   "cell_type": "code",
   "execution_count": 77,
   "metadata": {},
   "outputs": [],
   "source": [
    "import os"
   ]
  },
  {
   "cell_type": "code",
   "execution_count": 78,
   "metadata": {},
   "outputs": [],
   "source": [
    "arcpy.env.workspace = r\"C:\\Users\\brend_000\\Documents\\ArcGIS\\Projects\\GIS 5090\\GIS 5090 - Project 1\\usa_cities.gdb\""
   ]
  },
  {
   "cell_type": "code",
   "execution_count": 79,
   "metadata": {},
   "outputs": [],
   "source": [
    "fc = \"largest_cities\"\n",
    "Copycities = arcpy.SelectLayerByAttribute_management(fc, \"NEW SELECTION\", '\"POPULATION\" > 1000000')"
   ]
  },
  {
   "cell_type": "code",
   "execution_count": 80,
   "metadata": {},
   "outputs": [
    {
     "data": {
      "text/html": [
       "<h2>Output</h2>C:\\Users\\brend_000\\Documents\\ArcGIS\\Projects\\GIS 5090\\GIS 5090 - Project 1\\usa_cities.gdb\\Copy_lyr<h2>Messages</h2>Start Time: Monday, September 20, 2021 9:11:03 PM<br/>Succeeded at Monday, September 20, 2021 9:11:04 PM (Elapsed Time: 0.71 seconds)<br/><style>.rendered_html td, .rendered_html th {text-align: left;}.rendered_html tbody {border: 1px solid black;}</style>"
      ],
      "text/plain": [
       "<Result 'C:\\\\Users\\\\brend_000\\\\Documents\\\\ArcGIS\\\\Projects\\\\GIS 5090\\\\GIS 5090 - Project 1\\\\usa_cities.gdb\\\\Copy_lyr'>"
      ]
     },
     "execution_count": 80,
     "metadata": {},
     "output_type": "execute_result"
    }
   ],
   "source": [
    "arcpy.CopyFeatures_management(Copycities, 'Copy_lyr')"
   ]
  },
  {
   "cell_type": "markdown",
   "metadata": {},
   "source": [
    "Set the workspace to where the geodatabase containing the feature class file we want is\n",
    "\n",
    "Set the fc variable to the feature class largest cities and set the Copycities variable to contain all the layers with attributes that have a population over 1 million\n",
    "\n",
    "Copy the feature meeting that criteria by including Copycities in the parameters, so that only cities with over a million in population get carried over"
   ]
  },
  {
   "cell_type": "markdown",
   "metadata": {},
   "source": [
    "## Bonus"
   ]
  },
  {
   "cell_type": "code",
   "execution_count": 3,
   "metadata": {},
   "outputs": [],
   "source": [
    "arcpy.env.workspace = r\"C:\\Users\\brend_000\\Documents\\ArcGIS\\Projects\\GIS 5090\\GIS 5090 - Project 1\\usa_cities.gdb\"\n",
    "fc = \"largest_cities\"\n",
    "fields = [\"NAME\", \"POPULATION\"]"
   ]
  },
  {
   "cell_type": "code",
   "execution_count": null,
   "metadata": {},
   "outputs": [],
   "source": [
    "for row in sorted(arcpy.da.SearchCursor(fc, fields)):"
   ]
  },
  {
   "cell_type": "code",
   "execution_count": null,
   "metadata": {},
   "outputs": [],
   "source": []
  },
  {
   "cell_type": "code",
   "execution_count": null,
   "metadata": {},
   "outputs": [],
   "source": []
  },
  {
   "cell_type": "code",
   "execution_count": null,
   "metadata": {},
   "outputs": [],
   "source": []
  }
 ],
 "metadata": {
  "kernelspec": {
   "display_name": "ArcGISPro",
   "language": "Python",
   "name": "python3"
  },
  "language_info": {
   "file_extension": ".py",
   "name": "python",
   "version": "3"
  }
 },
 "nbformat": 4,
 "nbformat_minor": 2
}
