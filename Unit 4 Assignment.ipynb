{
 "cells": [
  {
   "cell_type": "markdown",
   "metadata": {},
   "source": [
    "## Problem 1"
   ]
  },
  {
   "cell_type": "code",
   "execution_count": 1,
   "metadata": {},
   "outputs": [],
   "source": [
    "import arcpy"
   ]
  },
  {
   "cell_type": "code",
   "execution_count": 2,
   "metadata": {},
   "outputs": [],
   "source": [
    "arcpy.env.workspace = r\"C:\\Users\\brend_000\\Documents\\GEOG 5090\\Module 4\\Exercise07\""
   ]
  },
  {
   "cell_type": "code",
   "execution_count": 3,
   "metadata": {},
   "outputs": [],
   "source": [
    "fc = \"airports.shp\"\n",
    "unique_name1 = arcpy.CreateUniqueName(\"airports_buffer\")\n",
    "unique_name2 = arcpy.CreateUniqueName(\"seaplane_base_buffer\")\n",
    "delim_field = arcpy.AddFieldDelimiters(fc, \"FEATURE\")"
   ]
  },
  {
   "cell_type": "code",
   "execution_count": 4,
   "metadata": {},
   "outputs": [
    {
     "data": {
      "text/html": [
       "<h2>Output</h2>C:\\Users\\brend_000\\Documents\\GEOG 5090\\Module 4\\Exercise07\\airports_buffer.shp<h2>Messages</h2>Start Time: Tuesday, September 21, 2021 8:12:15 PM<br/>Succeeded at Tuesday, September 21, 2021 8:12:16 PM (Elapsed Time: 0.65 seconds)<br/><style>.rendered_html td, .rendered_html th {text-align: left;}.rendered_html tbody {border: 1px solid black;}</style>"
      ],
      "text/plain": [
       "<Result 'C:\\\\Users\\\\brend_000\\\\Documents\\\\GEOG 5090\\\\Module 4\\\\Exercise07\\\\airports_buffer.shp'>"
      ]
     },
     "execution_count": 4,
     "metadata": {},
     "output_type": "execute_result"
    }
   ],
   "source": [
    "sql_exp1 = delim_field + \" = 'Airport'\"\n",
    "sql_exp2 = delim_field + \" = 'Seaplane Base'\"\n",
    "arcpy.Select_analysis(fc, unique_name1, sql_exp1)\n",
    "arcpy.Buffer_analysis(fc, unique_name1, \"15000 METER\")"
   ]
  },
  {
   "cell_type": "code",
   "execution_count": 28,
   "metadata": {},
   "outputs": [
    {
     "data": {
      "text/html": [
       "<h2>Output</h2>C:\\Users\\brend_000\\Documents\\GEOG 5090\\Module 4\\Exercise07\\seaplane_base_buffer.shp<h2>Messages</h2>Start Time: Monday, September 20, 2021 12:08:47 AM<br/>Succeeded at Monday, September 20, 2021 12:08:47 AM (Elapsed Time: 0.42 seconds)<br/><style>.rendered_html td, .rendered_html th {text-align: left;}.rendered_html tbody {border: 1px solid black;}</style>"
      ],
      "text/plain": [
       "<Result 'C:\\\\Users\\\\brend_000\\\\Documents\\\\GEOG 5090\\\\Module 4\\\\Exercise07\\\\seaplane_base_buffer.shp'>"
      ]
     },
     "execution_count": 28,
     "metadata": {},
     "output_type": "execute_result"
    }
   ],
   "source": [
    "arcpy.Select_analysis(fc, unique_name2, sql_exp2)\n",
    "arcpy.Buffer_analysis(fc, unique_name2, \"7500 METER\")"
   ]
  },
  {
   "cell_type": "markdown",
   "metadata": {},
   "source": [
    "## Problem 2"
   ]
  },
  {
   "cell_type": "code",
   "execution_count": 5,
   "metadata": {},
   "outputs": [],
   "source": [
    "fc = \"roads.shp\""
   ]
  },
  {
   "cell_type": "code",
   "execution_count": 6,
   "metadata": {},
   "outputs": [],
   "source": [
    "newfield = \"FERRY\""
   ]
  },
  {
   "cell_type": "code",
   "execution_count": 7,
   "metadata": {},
   "outputs": [],
   "source": [
    "fieldtype = \"TEXT\""
   ]
  },
  {
   "cell_type": "code",
   "execution_count": 8,
   "metadata": {},
   "outputs": [
    {
     "data": {
      "text/html": [
       "<h2>Output</h2>C:\\Users\\brend_000\\Documents\\GEOG 5090\\Module 4\\Exercise07\\roads.shp<h2>Messages</h2>Start Time: Tuesday, September 21, 2021 8:12:31 PM<br/>WARNING 000012: FERRY already exists<br/>Succeeded at Tuesday, September 21, 2021 8:12:31 PM (Elapsed Time: 0.03 seconds)<br/><style>.rendered_html td, .rendered_html th {text-align: left;}.rendered_html tbody {border: 1px solid black;}</style>"
      ],
      "text/plain": [
       "<Result 'C:\\\\Users\\\\brend_000\\\\Documents\\\\GEOG 5090\\\\Module 4\\\\Exercise07\\\\roads.shp'>"
      ]
     },
     "execution_count": 8,
     "metadata": {},
     "output_type": "execute_result"
    }
   ],
   "source": [
    "fieldname = arcpy.ValidateFieldName(newfield)\n",
    "arcpy.AddField_management(fc, fieldname, fieldtype, \"\", \"\", 10)"
   ]
  },
  {
   "cell_type": "code",
   "execution_count": 9,
   "metadata": {},
   "outputs": [],
   "source": [
    "sql_exp = '\"FEATURE\" = \\'Ferry Crossing\\''\n",
    "cursor = arcpy.da.UpdateCursor(fc, [\"FERRY\"], sql_exp)\n",
    "for row in cursor:\n",
    "    if sql_exp:\n",
    "        row[0] = \"YES\"\n",
    "        cursor.updateRow(row)\n",
    "    else:\n",
    "        row[0] = \"NO\"\n",
    "        cursor.updateRow(row)\n"
   ]
  },
  {
   "cell_type": "code",
   "execution_count": null,
   "metadata": {},
   "outputs": [],
   "source": []
  }
 ],
 "metadata": {
  "kernelspec": {
   "display_name": "ArcGISPro",
   "language": "Python",
   "name": "python3"
  },
  "language_info": {
   "file_extension": ".py",
   "name": "python",
   "version": "3"
  }
 },
 "nbformat": 4,
 "nbformat_minor": 2
}
