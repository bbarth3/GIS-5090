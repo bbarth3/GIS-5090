{
 "cells": [
  {
   "cell_type": "code",
   "execution_count": 36,
   "metadata": {},
   "outputs": [],
   "source": [
    "import arcpy"
   ]
  },
  {
   "cell_type": "code",
   "execution_count": 37,
   "metadata": {},
   "outputs": [],
   "source": [
    "from arcpy.sa import *\n",
    "arcpy.env.workspace = r\"C:\\Users\\brend_000\\Documents\\ArcGIS\\Projects\\GIS 5090\\Unit 6 Assignment\\Exercise09\""
   ]
  },
  {
   "cell_type": "markdown",
   "metadata": {},
   "source": [
    "## Challenge 1"
   ]
  },
  {
   "cell_type": "code",
   "execution_count": 38,
   "metadata": {},
   "outputs": [],
   "source": [
    "elevraster = arcpy.Raster(\"Elevation\")"
   ]
  },
  {
   "cell_type": "code",
   "execution_count": 39,
   "metadata": {},
   "outputs": [],
   "source": [
    "slope = Slope(elevraster)\n",
    "moderateslope = (slope < 20) & (slope > 5)\n",
    "moderateslope.save(\"moderateslope\")"
   ]
  },
  {
   "cell_type": "code",
   "execution_count": 40,
   "metadata": {},
   "outputs": [],
   "source": [
    "aspect = Aspect(elevraster)\n",
    "saspect = (aspect > 150) & (aspect < 270)"
   ]
  },
  {
   "cell_type": "code",
   "execution_count": 41,
   "metadata": {},
   "outputs": [],
   "source": [
    "saspectfinal = saspect\n",
    "saspectfinal.save(\"saspect\")"
   ]
  },
  {
   "cell_type": "code",
   "execution_count": 42,
   "metadata": {},
   "outputs": [],
   "source": [
    "myremap = RemapRange([[0,40,0], [41,43,1],\n",
    "[44,100,0]])\n",
    "outreclass = Reclassify(\"landcover.tif\", \"VALUE\", myremap)\n",
    "outreclass.save(\"forested\")"
   ]
  },
  {
   "cell_type": "code",
   "execution_count": null,
   "metadata": {},
   "outputs": [],
   "source": [
    "\n"
   ]
  },
  {
   "cell_type": "code",
   "execution_count": null,
   "metadata": {},
   "outputs": [],
   "source": []
  },
  {
   "cell_type": "markdown",
   "metadata": {},
   "source": [
    "## Challenge 2"
   ]
  },
  {
   "cell_type": "code",
   "execution_count": 43,
   "metadata": {},
   "outputs": [],
   "source": [
    "import os"
   ]
  },
  {
   "cell_type": "code",
   "execution_count": 44,
   "metadata": {},
   "outputs": [],
   "source": [
    "ws = r\"C:\\Users\\brend_000\\Documents\\ArcGIS\\Projects\\GIS 5090\\Unit 6 Assignment\"\n",
    "fgdb = \"Copy.gdb\""
   ]
  },
  {
   "cell_type": "code",
   "execution_count": 45,
   "metadata": {},
   "outputs": [
    {
     "data": {
      "text/html": [
       "<h2>Output</h2>C:\\Users\\brend_000\\Documents\\ArcGIS\\Projects\\GIS 5090\\Unit 6 Assignment\\Copy.gdb<h2>Messages</h2>Start Time: Saturday, October 2, 2021 12:46:21 PM<br/>Succeeded at Saturday, October 2, 2021 12:46:21 PM (Elapsed Time: 0.22 seconds)<br/><style>.rendered_html td, .rendered_html th {text-align: left;}.rendered_html tbody {border: 1px solid black;}</style>"
      ],
      "text/plain": [
       "<Result 'C:\\\\Users\\\\brend_000\\\\Documents\\\\ArcGIS\\\\Projects\\\\GIS 5090\\\\Unit 6 Assignment\\\\Copy.gdb'>"
      ]
     },
     "execution_count": 45,
     "metadata": {},
     "output_type": "execute_result"
    }
   ],
   "source": [
    "arcpy.CreateFileGDB_management(ws, fgdb)"
   ]
  },
  {
   "cell_type": "code",
   "execution_count": 46,
   "metadata": {},
   "outputs": [
    {
     "data": {
      "text/plain": [
       "['Elevation', 'forested', 'landcover.tif', 'moderateslope', 'saspect', 'tm.img']"
      ]
     },
     "execution_count": 46,
     "metadata": {},
     "output_type": "execute_result"
    }
   ],
   "source": [
    "arcpy.env.workspace = r\"C:\\Users\\brend_000\\Documents\\ArcGIS\\Projects\\GIS 5090\\Unit 6 Assignment\\Exercise09\"\n",
    "rasterlist = arcpy.ListRasters()\n",
    "rasterlist"
   ]
  },
  {
   "cell_type": "code",
   "execution_count": 47,
   "metadata": {},
   "outputs": [
    {
     "name": "stdout",
     "output_type": "stream",
     "text": [
      "Elevation\n",
      "forested\n",
      "landcover.tif\n",
      "moderateslope\n",
      "saspect\n",
      "tm.img\n"
     ]
    }
   ],
   "source": [
    "for raster in rasterlist:\n",
    "    print(raster)\n",
    "    arcpy.RasterToGeodatabase_conversion(raster, \"Copy.gdb\")\n",
    "    "
   ]
  },
  {
   "cell_type": "code",
   "execution_count": null,
   "metadata": {},
   "outputs": [],
   "source": []
  },
  {
   "cell_type": "code",
   "execution_count": null,
   "metadata": {},
   "outputs": [],
   "source": []
  },
  {
   "cell_type": "code",
   "execution_count": null,
   "metadata": {},
   "outputs": [],
   "source": []
  }
 ],
 "metadata": {
  "kernelspec": {
   "display_name": "ArcGISPro",
   "language": "Python",
   "name": "python3"
  },
  "language_info": {
   "file_extension": ".py",
   "name": "python",
   "version": "3"
  }
 },
 "nbformat": 4,
 "nbformat_minor": 2
}
